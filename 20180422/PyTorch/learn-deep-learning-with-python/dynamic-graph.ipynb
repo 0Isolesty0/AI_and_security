{
 "cells": [
  {
   "cell_type": "markdown",
   "metadata": {},
   "source": [
    "# 動態圖和靜態圖\n",
    "目前神經網路框架分為靜態圖框架和動態圖框架，PyTorch 和 TensorFlow、Caffe 等框架最大的區別就是他們擁有不同的計算圖表現形式。 TensorFlow 使用靜態圖，這意味著我們先定義計算圖，然後不斷使用它，而在 PyTorch 中，每次都會重新構建一個新的計算圖。通過這次課程，我們會瞭解靜態圖和動態圖之間的優缺點。\n",
    "\n",
    "對於使用者來說，兩種形式的計算圖有著非常大的區別，同時靜態圖和動態圖都有他們各自的優點，比如動態圖比較方便debug，使用者能夠用任何他們喜歡的方式進行debug，同時非常直觀，而靜態圖是通過先定義後運行的方式，之後再次運行的時候就不再需要重新構建計算圖，所以速度會比動態圖更快。"
   ]
  },
  {
   "cell_type": "markdown",
   "metadata": {},
   "source": [
    "![](https://ws3.sinaimg.cn/large/006tNc79ly1fmai482qumg30rs0fmq6e.gif)"
   ]
  },
  {
   "cell_type": "markdown",
   "metadata": {},
   "source": [
    "下面我們比較 while 迴圈語句在 TensorFlow 和 PyTorch 中的定義"
   ]
  },
  {
   "cell_type": "markdown",
   "metadata": {},
   "source": [
    "## TensorFlow"
   ]
  },
  {
   "cell_type": "code",
   "execution_count": 1,
   "metadata": {
    "collapsed": true
   },
   "outputs": [],
   "source": [
    "# tensorflow\n",
    "import tensorflow as tf\n",
    "\n",
    "first_counter = tf.constant(0)\n",
    "second_counter = tf.constant(10)"
   ]
  },
  {
   "cell_type": "code",
   "execution_count": 2,
   "metadata": {
    "collapsed": true
   },
   "outputs": [],
   "source": [
    "def cond(first_counter, second_counter, *args):\n",
    "    return first_counter < second_counter\n",
    "\n",
    "def body(first_counter, second_counter):\n",
    "    first_counter = tf.add(first_counter, 2)\n",
    "    second_counter = tf.add(second_counter, 1)\n",
    "    return first_counter, second_counter"
   ]
  },
  {
   "cell_type": "code",
   "execution_count": 3,
   "metadata": {
    "collapsed": false
   },
   "outputs": [],
   "source": [
    "c1, c2 = tf.while_loop(cond, body, [first_counter, second_counter])"
   ]
  },
  {
   "cell_type": "code",
   "execution_count": 4,
   "metadata": {
    "collapsed": true
   },
   "outputs": [],
   "source": [
    "with tf.Session() as sess:\n",
    "    counter_1_res, counter_2_res = sess.run([c1, c2])"
   ]
  },
  {
   "cell_type": "code",
   "execution_count": 5,
   "metadata": {
    "collapsed": false
   },
   "outputs": [
    {
     "name": "stdout",
     "output_type": "stream",
     "text": [
      "20\n",
      "20\n"
     ]
    }
   ],
   "source": [
    "print(counter_1_res)\n",
    "print(counter_2_res)"
   ]
  },
  {
   "cell_type": "markdown",
   "metadata": {},
   "source": [
    "可以看到 TensorFlow 需要將整個圖構建成靜態的，換句話說，每次運行的時候圖都是一樣的，是不能夠改變的，所以不能直接使用 Python 的 while 迴圈語句，需要使用輔助函數 `tf.while_loop` 寫成 TensorFlow 內部的形式\n",
    "\n",
    "這是非常反直覺的，學習成本也是比較高的\n",
    "\n",
    "下面我們來看看 PyTorch 的動態圖機制，這使得我們能夠使用 Python 的 while 寫迴圈，非常方便"
   ]
  },
  {
   "cell_type": "markdown",
   "metadata": {},
   "source": [
    "## PyTorch"
   ]
  },
  {
   "cell_type": "code",
   "execution_count": 6,
   "metadata": {
    "collapsed": true
   },
   "outputs": [],
   "source": [
    "# pytorch\n",
    "import torch\n",
    "first_counter = torch.Tensor([0])\n",
    "second_counter = torch.Tensor([10])"
   ]
  },
  {
   "cell_type": "code",
   "execution_count": 11,
   "metadata": {
    "collapsed": false
   },
   "outputs": [],
   "source": [
    "while (first_counter < second_counter)[0]:\n",
    "    first_counter += 2\n",
    "    second_counter += 1"
   ]
  },
  {
   "cell_type": "code",
   "execution_count": 12,
   "metadata": {
    "collapsed": false
   },
   "outputs": [
    {
     "name": "stdout",
     "output_type": "stream",
     "text": [
      "\n",
      " 20\n",
      "[torch.FloatTensor of size 1]\n",
      "\n",
      "\n",
      " 20\n",
      "[torch.FloatTensor of size 1]\n",
      "\n"
     ]
    }
   ],
   "source": [
    "print(first_counter)\n",
    "print(second_counter)"
   ]
  },
  {
   "cell_type": "markdown",
   "metadata": {},
   "source": [
    "可以看到 PyTorch 的寫法跟 Python 的寫法是完全一致的，沒有任何額外的學習成本\n",
    "\n",
    "上面的例子展示如何使用靜態圖和動態圖構建 while 迴圈，看起來動態圖的方式更加簡單且直觀，你覺得呢？"
   ]
  }
 ],
 "metadata": {
  "kernelspec": {
   "display_name": "mx",
   "language": "python",
   "name": "mx"
  },
  "language_info": {
   "codemirror_mode": {
    "name": "ipython",
    "version": 3
   },
   "file_extension": ".py",
   "mimetype": "text/x-python",
   "name": "python",
   "nbconvert_exporter": "python",
   "pygments_lexer": "ipython3",
   "version": "3.6.0"
  }
 },
 "nbformat": 4,
 "nbformat_minor": 2
}
